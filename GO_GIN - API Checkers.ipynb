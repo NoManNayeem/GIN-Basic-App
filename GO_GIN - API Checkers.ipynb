{
 "cells": [
  {
   "cell_type": "code",
   "execution_count": 1,
   "id": "a5338fdf",
   "metadata": {},
   "outputs": [],
   "source": [
    "import requests"
   ]
  },
  {
   "cell_type": "markdown",
   "id": "da9479f5",
   "metadata": {},
   "source": [
    "# Hello World!"
   ]
  },
  {
   "cell_type": "code",
   "execution_count": 19,
   "id": "3d1a70ec",
   "metadata": {},
   "outputs": [
    {
     "name": "stdout",
     "output_type": "stream",
     "text": [
      "All tests passed.\n"
     ]
    }
   ],
   "source": [
    "import requests\n",
    "import json\n",
    "\n",
    "base_url = \"http://localhost:8083\"  # Update with your actual base URL\n",
    "\n",
    "def test_get_all_products():\n",
    "    response = requests.get(f\"{base_url}/products\")\n",
    "    assert response.status_code == 200\n",
    "    data = response.json()\n",
    "    assert isinstance(data, list)\n",
    "\n",
    "def test_get_product_by_code():\n",
    "    code = \"P9999\"  # Update with an existing product code\n",
    "    response = requests.get(f\"{base_url}/product/{code}\")\n",
    "    assert response.status_code == 200\n",
    "    data = response.json()\n",
    "    assert isinstance(data, dict)\n",
    "    assert \"code\" in data\n",
    "    assert data[\"code\"] == code\n",
    "\n",
    "def test_add_product():\n",
    "    new_product = {\n",
    "        \"code\": \"P9998\",\n",
    "        \"name\": \"New Product\",\n",
    "        \"qty\": 5\n",
    "    }\n",
    "    headers = {\"Content-Type\": \"application/json\"}\n",
    "    response = requests.post(f\"{base_url}/products\", data=json.dumps(new_product), headers=headers)\n",
    "    assert response.status_code == 201\n",
    "    data = response.json()\n",
    "    assert isinstance(data, dict)\n",
    "    assert \"code\" in data\n",
    "    assert data[\"code\"] == new_product[\"code\"]\n",
    "\n",
    "if __name__ == \"__main__\":\n",
    "    test_add_product()\n",
    "    test_get_all_products()\n",
    "    test_get_product_by_code()\n",
    "    print(\"All tests passed.\")\n"
   ]
  },
  {
   "cell_type": "code",
   "execution_count": null,
   "id": "3bf928c4",
   "metadata": {},
   "outputs": [],
   "source": []
  },
  {
   "cell_type": "code",
   "execution_count": null,
   "id": "a597312c",
   "metadata": {},
   "outputs": [],
   "source": []
  },
  {
   "cell_type": "code",
   "execution_count": null,
   "id": "e6aa45d7",
   "metadata": {},
   "outputs": [],
   "source": []
  },
  {
   "cell_type": "code",
   "execution_count": null,
   "id": "402009d5",
   "metadata": {},
   "outputs": [],
   "source": []
  },
  {
   "cell_type": "code",
   "execution_count": null,
   "id": "7ac05760",
   "metadata": {},
   "outputs": [],
   "source": []
  },
  {
   "cell_type": "code",
   "execution_count": null,
   "id": "5aac7573",
   "metadata": {},
   "outputs": [],
   "source": []
  },
  {
   "cell_type": "code",
   "execution_count": null,
   "id": "a8e8d3d3",
   "metadata": {},
   "outputs": [],
   "source": []
  },
  {
   "cell_type": "code",
   "execution_count": null,
   "id": "5376880a",
   "metadata": {},
   "outputs": [],
   "source": []
  },
  {
   "cell_type": "code",
   "execution_count": null,
   "id": "c91cf1e4",
   "metadata": {},
   "outputs": [],
   "source": []
  }
 ],
 "metadata": {
  "kernelspec": {
   "display_name": "Python 3 (ipykernel)",
   "language": "python",
   "name": "python3"
  },
  "language_info": {
   "codemirror_mode": {
    "name": "ipython",
    "version": 3
   },
   "file_extension": ".py",
   "mimetype": "text/x-python",
   "name": "python",
   "nbconvert_exporter": "python",
   "pygments_lexer": "ipython3",
   "version": "3.10.9"
  }
 },
 "nbformat": 4,
 "nbformat_minor": 5
}
