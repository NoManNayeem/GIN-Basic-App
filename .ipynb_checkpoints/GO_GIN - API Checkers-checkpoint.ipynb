{
 "cells": [
  {
   "cell_type": "code",
   "execution_count": 1,
   "id": "d3c4cf21",
   "metadata": {},
   "outputs": [],
   "source": [
    "import requests"
   ]
  },
  {
   "cell_type": "markdown",
   "id": "4c343c98",
   "metadata": {},
   "source": [
    "# Hello World!"
   ]
  },
  {
   "cell_type": "code",
   "execution_count": 12,
   "id": "cecc2477",
   "metadata": {},
   "outputs": [
    {
     "name": "stdout",
     "output_type": "stream",
     "text": [
      "All Books: {'error': 'Failed to fetch books'}\n",
      "#####################################\n",
      "Book 1: {'message': 'Book not found.'}\n",
      "#####################################\n",
      "Created Book: {'message': 'Failed to create book'}\n",
      "#####################################\n",
      "Checkout Result: {'message': 'Book not found.'}\n",
      "#####################################\n",
      "Return Result: {'message': 'Book not found.'}\n"
     ]
    }
   ],
   "source": [
    "import requests\n",
    "\n",
    "base_url = \"http://localhost:8080\"\n",
    "\n",
    "def get_books():\n",
    "    response = requests.get(f\"{base_url}/books\")\n",
    "    return response.json()\n",
    "\n",
    "def get_book_by_id(book_id):\n",
    "    response = requests.get(f\"{base_url}/books/{book_id}\")\n",
    "    return response.json()\n",
    "\n",
    "def create_book(new_book):\n",
    "    response = requests.post(f\"{base_url}/books\", json=new_book)\n",
    "    return response.json()\n",
    "\n",
    "def update_book(book_id, updated_book):\n",
    "    response = requests.put(f\"{base_url}/books/{book_id}\", json=updated_book)\n",
    "    return response.json()\n",
    "\n",
    "def delete_book(book_id):\n",
    "    response = requests.delete(f\"{base_url}/books/{book_id}\")\n",
    "    return response.json()\n",
    "\n",
    "# Example usage\n",
    "if __name__ == \"__main__\":\n",
    "    # Get all books\n",
    "    all_books = get_books()\n",
    "    print(\"All Books:\", all_books)\n",
    "    \n",
    "    print(\"-------------------------------------------------------------------------------\")\n",
    "\n",
    "    # Get a specific book by ID\n",
    "    book_id = \"1\"\n",
    "    specific_book = get_book_by_id(book_id)\n",
    "    print(f\"Book {book_id}:\", specific_book)\n",
    "    \n",
    "    print(\"-------------------------------------------------------------------------------\")\n",
    "\n",
    "    # Create a new book\n",
    "    new_book = {\n",
    "        \"ID\": \"4\",\n",
    "        \"Title\": \"New Book\",\n",
    "        \"Author\": \"John Doe\",\n",
    "        \"Quantity\": 3\n",
    "    }\n",
    "    created_book = create_book(new_book)\n",
    "    print(\"Created Book:\", created_book)\n",
    "    \n",
    "    print(\"-------------------------------------------------------------------------------\")\n",
    "\n",
    "    # Update a book\n",
    "    updated_book = {\n",
    "        \"ID\": \"4\",\n",
    "        \"Title\": \"Updated Book\",\n",
    "        \"Author\": \"Jane Smith\",\n",
    "        \"Quantity\": 5\n",
    "    }\n",
    "    updated_result = update_book(\"4\", updated_book)\n",
    "    print(\"Updated Book:\", updated_result)\n",
    "    \n",
    "    print(\"-------------------------------------------------------------------------------\")\n",
    "\n",
    "    # Delete a book\n",
    "    delete_result = delete_book(\"4\")\n",
    "    print(\"Delete Result:\", delete_result)\n"
   ]
  },
  {
   "cell_type": "code",
   "execution_count": null,
   "id": "9e4c1028",
   "metadata": {},
   "outputs": [],
   "source": []
  },
  {
   "cell_type": "code",
   "execution_count": null,
   "id": "991a8943",
   "metadata": {},
   "outputs": [],
   "source": []
  },
  {
   "cell_type": "code",
   "execution_count": null,
   "id": "87ecc0f9",
   "metadata": {},
   "outputs": [],
   "source": []
  },
  {
   "cell_type": "code",
   "execution_count": null,
   "id": "5ca57e8b",
   "metadata": {},
   "outputs": [],
   "source": []
  },
  {
   "cell_type": "code",
   "execution_count": null,
   "id": "3a24895c",
   "metadata": {},
   "outputs": [],
   "source": []
  },
  {
   "cell_type": "code",
   "execution_count": null,
   "id": "268bfab1",
   "metadata": {},
   "outputs": [],
   "source": []
  },
  {
   "cell_type": "code",
   "execution_count": null,
   "id": "423b1e5c",
   "metadata": {},
   "outputs": [],
   "source": []
  },
  {
   "cell_type": "code",
   "execution_count": null,
   "id": "7ca64a4d",
   "metadata": {},
   "outputs": [],
   "source": []
  },
  {
   "cell_type": "code",
   "execution_count": null,
   "id": "664ea4e7",
   "metadata": {},
   "outputs": [],
   "source": []
  }
 ],
 "metadata": {
  "kernelspec": {
   "display_name": "Python 3 (ipykernel)",
   "language": "python",
   "name": "python3"
  },
  "language_info": {
   "codemirror_mode": {
    "name": "ipython",
    "version": 3
   },
   "file_extension": ".py",
   "mimetype": "text/x-python",
   "name": "python",
   "nbconvert_exporter": "python",
   "pygments_lexer": "ipython3",
   "version": "3.10.9"
  }
 },
 "nbformat": 4,
 "nbformat_minor": 5
}
